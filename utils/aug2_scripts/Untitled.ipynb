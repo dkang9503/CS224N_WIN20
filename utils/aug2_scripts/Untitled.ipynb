{
 "cells": [
  {
   "cell_type": "code",
   "execution_count": 2,
   "metadata": {},
   "outputs": [
    {
     "name": "stderr",
     "output_type": "stream",
     "text": [
      "Traceback (most recent call last):\n",
      "  File \"char_aug_script.py\", line 9, in <module>\n",
      "    import nlpaug.augmenter.char as nac\n",
      "ModuleNotFoundError: No module named 'nlpaug'\n"
     ]
    }
   ],
   "source": [
    "# do key on twit\n",
    "!python char_aug_script.py --input=../../data/aug2_data/glovetwit_alpha_0.3_num_aug_1.csv --da_type=key --num_aug=1 --alpha_char=0.1 --output_dir=../aug2_data/\n"
   ]
  }
 ],
 "metadata": {
  "kernelspec": {
   "display_name": "Python 3",
   "language": "python",
   "name": "python3"
  },
  "language_info": {
   "codemirror_mode": {
    "name": "ipython",
    "version": 3
   },
   "file_extension": ".py",
   "mimetype": "text/x-python",
   "name": "python",
   "nbconvert_exporter": "python",
   "pygments_lexer": "ipython3",
   "version": "3.7.3"
  }
 },
 "nbformat": 4,
 "nbformat_minor": 2
}
