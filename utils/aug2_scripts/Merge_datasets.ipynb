{
 "cells": [
  {
   "cell_type": "code",
   "execution_count": 1,
   "metadata": {},
   "outputs": [],
   "source": [
    "import pandas as pd"
   ]
  },
  {
   "cell_type": "code",
   "execution_count": 50,
   "metadata": {},
   "outputs": [],
   "source": [
    "# load datasets\n",
    "df_ocr_3_1 = pd.read_csv('../aug2_data/ocr_alpha_0.25_alpha_char_0.1_num_aug_1.csv')\n",
    "df_csub_1_1 = pd.read_csv('../aug2_data/contextsub_alpha_0.1_num_aug_1.csv')\n",
    "df_key_1_1 = pd.read_csv('../aug2_data/key_alpha_0.25_alpha_char_0.1_num_aug_1.csv')\n",
    "df_twit_3_1 = pd.read_csv('../aug2_data/glovetwit_alpha_0.3_num_aug_1.csv')"
   ]
  },
  {
   "cell_type": "code",
   "execution_count": 51,
   "metadata": {},
   "outputs": [
    {
     "data": {
      "text/plain": [
       "target    7612\n",
       "text      7612\n",
       "dtype: int64"
      ]
     },
     "execution_count": 51,
     "metadata": {},
     "output_type": "execute_result"
    }
   ],
   "source": [
    "# get base\n",
    "base = df_ocr_3_1.iloc[:len(df_ocr_3_1)//2]\n",
    "base.count()"
   ]
  },
  {
   "cell_type": "code",
   "execution_count": 54,
   "metadata": {},
   "outputs": [
    {
     "name": "stdout",
     "output_type": "stream",
     "text": [
      "target    7612\n",
      "text      7612\n",
      "dtype: int64\n",
      "target    7612\n",
      "text      7612\n",
      "dtype: int64\n",
      "target    7612\n",
      "text      7612\n",
      "dtype: int64\n",
      "target    7612\n",
      "text      7612\n",
      "dtype: int64\n"
     ]
    }
   ],
   "source": [
    "print(df_ocr_3_1.count())\n",
    "print(df_csub_1_1.count())\n",
    "print(df_key_1_1.count())\n",
    "print(df_twit_3_1.count())"
   ]
  },
  {
   "cell_type": "code",
   "execution_count": 53,
   "metadata": {},
   "outputs": [],
   "source": [
    "# remove original - keep ocr as base\n",
    "df_ocr_3_1 = df_ocr_3_1.iloc[len(df_ocr_3_1)//2:]\n",
    "df_csub_1_1 = df_csub_1_1.iloc[len(df_csub_1_1)//2:]\n",
    "df_key_1_1 = df_key_1_1.iloc[len(df_key_1_1)//2:]\n",
    "df_twit_3_1 = df_twit_3_1.iloc[len(df_twit_3_1)//2:]"
   ]
  },
  {
   "cell_type": "code",
   "execution_count": 55,
   "metadata": {},
   "outputs": [],
   "source": [
    "# merge datasets\n",
    "merged = df_ocr_3_1.append(df_csub_1_1).append(df_key_1_1).append(df_twit_3_1)"
   ]
  },
  {
   "cell_type": "code",
   "execution_count": 56,
   "metadata": {},
   "outputs": [
    {
     "data": {
      "text/plain": [
       "target    30448\n",
       "text      30448\n",
       "dtype: int64"
      ]
     },
     "execution_count": 56,
     "metadata": {},
     "output_type": "execute_result"
    }
   ],
   "source": [
    "merged.count()"
   ]
  },
  {
   "cell_type": "code",
   "execution_count": 57,
   "metadata": {},
   "outputs": [
    {
     "name": "stdout",
     "output_type": "stream",
     "text": [
      "500\n",
      "1000\n",
      "5000\n",
      "10000\n",
      "25000\n",
      "30448\n"
     ]
    }
   ],
   "source": [
    "counts = [500, 1000, 5000, 10000, 25000, len(merged)]\n",
    "samples = []\n",
    "for c in counts:\n",
    "    samples.append(merged.sample(c))\n",
    "for s in samples:\n",
    "    print(len(s))"
   ]
  },
  {
   "cell_type": "code",
   "execution_count": 60,
   "metadata": {},
   "outputs": [],
   "source": [
    "for s in samples:\n",
    "    base.append(s).to_csv(f'../aug2_data/top4_merged_{len(s)}.csv', index=False)"
   ]
  }
 ],
 "metadata": {
  "kernelspec": {
   "display_name": "Python 3",
   "language": "python",
   "name": "python3"
  },
  "language_info": {
   "codemirror_mode": {
    "name": "ipython",
    "version": 3
   },
   "file_extension": ".py",
   "mimetype": "text/x-python",
   "name": "python",
   "nbconvert_exporter": "python",
   "pygments_lexer": "ipython3",
   "version": "3.7.3"
  }
 },
 "nbformat": 4,
 "nbformat_minor": 2
}
