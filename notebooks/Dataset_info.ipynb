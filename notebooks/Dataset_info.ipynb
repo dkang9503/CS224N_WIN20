{
 "cells": [
  {
   "cell_type": "code",
   "execution_count": 1,
   "metadata": {},
   "outputs": [],
   "source": [
    "import pandas as pd\n",
    "import numpy as np\n",
    "import matplotlib.pyplot as plt"
   ]
  },
  {
   "cell_type": "code",
   "execution_count": 18,
   "metadata": {},
   "outputs": [
    {
     "data": {
      "text/html": [
       "<div>\n",
       "<style scoped>\n",
       "    .dataframe tbody tr th:only-of-type {\n",
       "        vertical-align: middle;\n",
       "    }\n",
       "\n",
       "    .dataframe tbody tr th {\n",
       "        vertical-align: top;\n",
       "    }\n",
       "\n",
       "    .dataframe thead th {\n",
       "        text-align: right;\n",
       "    }\n",
       "</style>\n",
       "<table border=\"1\" class=\"dataframe\">\n",
       "  <thead>\n",
       "    <tr style=\"text-align: right;\">\n",
       "      <th></th>\n",
       "      <th>_unit_id</th>\n",
       "      <th>_golden</th>\n",
       "      <th>_unit_state</th>\n",
       "      <th>_trusted_judgments</th>\n",
       "      <th>_last_judgment_at</th>\n",
       "      <th>choose_one</th>\n",
       "      <th>choose_one:confidence</th>\n",
       "      <th>choose_one_gold</th>\n",
       "      <th>keyword</th>\n",
       "      <th>location</th>\n",
       "      <th>text</th>\n",
       "      <th>tweetid</th>\n",
       "      <th>userid</th>\n",
       "      <th>target</th>\n",
       "    </tr>\n",
       "  </thead>\n",
       "  <tbody>\n",
       "    <tr>\n",
       "      <th>0</th>\n",
       "      <td>778243823</td>\n",
       "      <td>True</td>\n",
       "      <td>golden</td>\n",
       "      <td>156</td>\n",
       "      <td>NaN</td>\n",
       "      <td>Relevant</td>\n",
       "      <td>1.0000</td>\n",
       "      <td>Relevant</td>\n",
       "      <td>NaN</td>\n",
       "      <td>NaN</td>\n",
       "      <td>Just happened a terrible car crash</td>\n",
       "      <td>1.0</td>\n",
       "      <td>NaN</td>\n",
       "      <td>1</td>\n",
       "    </tr>\n",
       "    <tr>\n",
       "      <th>1</th>\n",
       "      <td>778243824</td>\n",
       "      <td>True</td>\n",
       "      <td>golden</td>\n",
       "      <td>152</td>\n",
       "      <td>NaN</td>\n",
       "      <td>Relevant</td>\n",
       "      <td>1.0000</td>\n",
       "      <td>Relevant</td>\n",
       "      <td>NaN</td>\n",
       "      <td>NaN</td>\n",
       "      <td>Our Deeds are the Reason of this #earthquake M...</td>\n",
       "      <td>13.0</td>\n",
       "      <td>NaN</td>\n",
       "      <td>1</td>\n",
       "    </tr>\n",
       "    <tr>\n",
       "      <th>2</th>\n",
       "      <td>778243825</td>\n",
       "      <td>True</td>\n",
       "      <td>golden</td>\n",
       "      <td>137</td>\n",
       "      <td>NaN</td>\n",
       "      <td>Relevant</td>\n",
       "      <td>1.0000</td>\n",
       "      <td>Relevant</td>\n",
       "      <td>NaN</td>\n",
       "      <td>NaN</td>\n",
       "      <td>Heard about #earthquake is different cities, s...</td>\n",
       "      <td>14.0</td>\n",
       "      <td>NaN</td>\n",
       "      <td>1</td>\n",
       "    </tr>\n",
       "    <tr>\n",
       "      <th>3</th>\n",
       "      <td>778243826</td>\n",
       "      <td>True</td>\n",
       "      <td>golden</td>\n",
       "      <td>136</td>\n",
       "      <td>NaN</td>\n",
       "      <td>Relevant</td>\n",
       "      <td>0.9603</td>\n",
       "      <td>Relevant</td>\n",
       "      <td>NaN</td>\n",
       "      <td>NaN</td>\n",
       "      <td>there is a forest fire at spot pond, geese are...</td>\n",
       "      <td>15.0</td>\n",
       "      <td>NaN</td>\n",
       "      <td>1</td>\n",
       "    </tr>\n",
       "    <tr>\n",
       "      <th>4</th>\n",
       "      <td>778243827</td>\n",
       "      <td>True</td>\n",
       "      <td>golden</td>\n",
       "      <td>138</td>\n",
       "      <td>NaN</td>\n",
       "      <td>Relevant</td>\n",
       "      <td>1.0000</td>\n",
       "      <td>Relevant</td>\n",
       "      <td>NaN</td>\n",
       "      <td>NaN</td>\n",
       "      <td>Forest fire near La Ronge Sask. Canada</td>\n",
       "      <td>16.0</td>\n",
       "      <td>NaN</td>\n",
       "      <td>1</td>\n",
       "    </tr>\n",
       "  </tbody>\n",
       "</table>\n",
       "</div>"
      ],
      "text/plain": [
       "    _unit_id  _golden _unit_state  _trusted_judgments _last_judgment_at  \\\n",
       "0  778243823     True      golden                 156               NaN   \n",
       "1  778243824     True      golden                 152               NaN   \n",
       "2  778243825     True      golden                 137               NaN   \n",
       "3  778243826     True      golden                 136               NaN   \n",
       "4  778243827     True      golden                 138               NaN   \n",
       "\n",
       "  choose_one  choose_one:confidence choose_one_gold keyword location  \\\n",
       "0   Relevant                 1.0000        Relevant     NaN      NaN   \n",
       "1   Relevant                 1.0000        Relevant     NaN      NaN   \n",
       "2   Relevant                 1.0000        Relevant     NaN      NaN   \n",
       "3   Relevant                 0.9603        Relevant     NaN      NaN   \n",
       "4   Relevant                 1.0000        Relevant     NaN      NaN   \n",
       "\n",
       "                                                text  tweetid  userid  target  \n",
       "0                 Just happened a terrible car crash      1.0     NaN       1  \n",
       "1  Our Deeds are the Reason of this #earthquake M...     13.0     NaN       1  \n",
       "2  Heard about #earthquake is different cities, s...     14.0     NaN       1  \n",
       "3  there is a forest fire at spot pond, geese are...     15.0     NaN       1  \n",
       "4             Forest fire near La Ronge Sask. Canada     16.0     NaN       1  "
      ]
     },
     "execution_count": 18,
     "metadata": {},
     "output_type": "execute_result"
    }
   ],
   "source": [
    "# Import data\n",
    "df = pd.read_csv(\"../data/original_data_file.csv\")\n",
    "df.head()"
   ]
  },
  {
   "cell_type": "code",
   "execution_count": 4,
   "metadata": {},
   "outputs": [
    {
     "name": "stdout",
     "output_type": "stream",
     "text": [
      "Number of Entries: 10876\n",
      "Number of 0's: 6203\n",
      "Number of 1's: 4673\n",
      "1's Percent: 0.4296616403089371\n",
      "Average Judgments: 6.02\n",
      "Average Confidence: 0.84\n",
      "Min Confidence: 0.33\n"
     ]
    }
   ],
   "source": [
    "# Stats\n",
    "print(\"Number of Entries: {}\".format(df.shape[0]))\n",
    "print(\"Number of 0's: {}\".format(df.loc[df['target'] == 0].shape[0]))\n",
    "print(\"Number of 1's: {}\".format(df.loc[df['target'] == 1].shape[0]))\n",
    "print(\"1's Percent: {}\".format(df.loc[df['target'] == 1].shape[0]/df.shape[0]))\n",
    "print(\"Average Judgments: {:.2f}\".format(df['_trusted_judgments'].mean()))\n",
    "print(\"Average Confidence: {:.2f}\".format(df['choose_one:confidence'].mean()))\n",
    "print(\"Min Confidence: {:.2f}\".format(df['choose_one:confidence'].min()))"
   ]
  },
  {
   "cell_type": "code",
   "execution_count": 5,
   "metadata": {},
   "outputs": [],
   "source": [
    "def threshold(df, col, t):\n",
    "    return df.loc[df[col] >= t]"
   ]
  },
  {
   "cell_type": "code",
   "execution_count": 11,
   "metadata": {},
   "outputs": [
    {
     "data": {
      "text/plain": [
       "Text(0.5, 1.0, 'Samples vs Min Confidence')"
      ]
     },
     "execution_count": 11,
     "metadata": {},
     "output_type": "execute_result"
    },
    {
     "data": {
      "image/png": "[encoded data removed]",
      "text/plain": [
       "<Figure size 432x288 with 1 Axes>"
      ]
     },
     "metadata": {
      "needs_background": "light"
     },
     "output_type": "display_data"
    }
   ],
   "source": [
    "col = 'choose_one:confidence'\n",
    "samples = []\n",
    "for i in range(10):\n",
    "    samples.append(len(threshold(df,col, i/10)))\n",
    "    \n",
    "plt.plot((np.arange(10))*10, np.array(samples)/1000, '-o')\n",
    "plt.xlabel(\"Min Confidence (%)\")\n",
    "plt.ylabel(\"Available Samples (1000's)\")\n",
    "plt.title(\"Samples vs Min Confidence\")"
   ]
  },
  {
   "cell_type": "code",
   "execution_count": 14,
   "metadata": {},
   "outputs": [
    {
     "data": {
      "text/plain": [
       "Text(0.5, 1.0, 'Samples vs Num Judgments')"
      ]
     },
     "execution_count": 14,
     "metadata": {},
     "output_type": "execute_result"
    },
    {
     "data": {
      "image/png": "[encoded data removed]",
      "text/plain": [
       "<Figure size 432x288 with 1 Axes>"
      ]
     },
     "metadata": {
      "needs_background": "light"
     },
     "output_type": "display_data"
    }
   ],
   "source": [
    "col = '_trusted_judgments'\n",
    "samples = []\n",
    "for i in range(10):\n",
    "    samples.append(len(threshold(df,col, i)))\n",
    "    \n",
    "plt.plot((np.arange(10)), np.array(samples)/1000, '-o')\n",
    "plt.xlabel(\"Min Judgements (%)\")\n",
    "plt.ylabel(\"Available Samples (1000's)\")\n",
    "plt.title(\"Samples vs Num Judgments\")"
   ]
  },
  {
   "cell_type": "code",
   "execution_count": 20,
   "metadata": {},
   "outputs": [
    {
     "name": "stdout",
     "output_type": "stream",
     "text": [
      "Number of Entries: 4673\n",
      "Number of 0's: 0\n",
      "Number of 1's: 4673\n",
      "1's Percent: 1.0\n",
      "Average Judgments: 6.44\n",
      "Average Confidence: 0.84\n",
      "Min Confidence: 0.33\n"
     ]
    }
   ],
   "source": [
    "df_rel = df.loc[df['choose_one'] == 'Relevant']\n",
    "# \"Releveant Data\" Stats\n",
    "print(\"Number of Entries: {}\".format(df_rel.shape[0]))\n",
    "print(\"Number of 0's: {}\".format(df_rel.loc[df_rel['target'] == 0].shape[0]))\n",
    "print(\"Number of 1's: {}\".format(df_rel.loc[df_rel['target'] == 1].shape[0]))\n",
    "print(\"1's Percent: {}\".format(df_rel.loc[df_rel['target'] == 1].shape[0]/df_rel.shape[0]))\n",
    "print(\"Average Judgments: {:.2f}\".format(df_rel['_trusted_judgments'].mean()))\n",
    "print(\"Average Confidence: {:.2f}\".format(df_rel['choose_one:confidence'].mean()))\n",
    "print(\"Min Confidence: {:.2f}\".format(df_rel['choose_one:confidence'].min()))\n"
   ]
  },
  {
   "cell_type": "code",
   "execution_count": 4,
   "metadata": {},
   "outputs": [
    {
     "data": {
      "text/plain": [
       "7612"
      ]
     },
     "execution_count": 4,
     "metadata": {},
     "output_type": "execute_result"
    }
   ],
   "source": [
    "# Import data\n",
    "df_train = pd.read_csv(\"./train.csv\")\n",
    "df_train.shape[0]"
   ]
  },
  {
   "cell_type": "code",
   "execution_count": 33,
   "metadata": {},
   "outputs": [
    {
     "name": "stdout",
     "output_type": "stream",
     "text": [
      "Number of Entries: 7612\n",
      "Number of 0's: 4373\n",
      "Number of 1's: 3239\n",
      "1's Percent: 0.4255123489227535\n"
     ]
    }
   ],
   "source": [
    "# Train Stats\n",
    "print(\"Number of Entries: {}\".format(df_train.shape[0]))\n",
    "print(\"Number of 0's: {}\".format(df_train.loc[df_train['target'] == 0].shape[0]))\n",
    "print(\"Number of 1's: {}\".format(df_train.loc[df_train['target'] == 1].shape[0]))\n",
    "print(\"1's Percent: {}\".format(df_train.loc[df_train['target'] == 1].shape[0]/df_train.shape[0]))"
   ]
  }
 ],
 "metadata": {
  "kernelspec": {
   "display_name": "Python 3",
   "language": "python",
   "name": "python3"
  },
  "language_info": {
   "codemirror_mode": {
    "name": "ipython",
    "version": 3
   },
   "file_extension": ".py",
   "mimetype": "text/x-python",
   "name": "python",
   "nbconvert_exporter": "python",
   "pygments_lexer": "ipython3",
   "version": "3.7.3"
  }
 },
 "nbformat": 4,
 "nbformat_minor": 2
}
